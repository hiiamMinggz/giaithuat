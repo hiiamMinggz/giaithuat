{
 "cells": [
  {
   "cell_type": "code",
   "execution_count": 1,
   "metadata": {},
   "outputs": [],
   "source": [
    "import pandas as pd"
   ]
  },
  {
   "cell_type": "code",
   "execution_count": 2,
   "metadata": {},
   "outputs": [
    {
     "name": "stdout",
     "output_type": "stream",
     "text": [
      "   weight\n",
      "0       2\n",
      "1       3\n",
      "2       5\n"
     ]
    }
   ],
   "source": [
    "import pandas as pd\n",
    "\n",
    "# Tạo DataFrame mẫu\n",
    "df = pd.DataFrame({'weight': [2, 3, 5, 7]})\n",
    "\n",
    "# Tính tổng tích lũy của cột 'weight'\n",
    "cumulative_sum = df['weight'].cumsum()\n",
    "\n",
    "# Lấy ra các dòng với điều kiện tổng nhỏ hơn hoặc bằng 10\n",
    "selected_rows = df[cumulative_sum <= 10]\n",
    "\n",
    "# In kết quả\n",
    "print(selected_rows)\n"
   ]
  }
 ],
 "metadata": {
  "kernelspec": {
   "display_name": "luan_an",
   "language": "python",
   "name": "python3"
  },
  "language_info": {
   "codemirror_mode": {
    "name": "ipython",
    "version": 3
   },
   "file_extension": ".py",
   "mimetype": "text/x-python",
   "name": "python",
   "nbconvert_exporter": "python",
   "pygments_lexer": "ipython3",
   "version": "3.8.17"
  }
 },
 "nbformat": 4,
 "nbformat_minor": 2
}
